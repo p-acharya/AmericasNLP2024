{
 "cells": [
  {
   "cell_type": "code",
   "execution_count": 216,
   "id": "83bb41c2-8f83-4f96-8dad-83bb0c214d94",
   "metadata": {},
   "outputs": [],
   "source": [
    "import openai\n",
    "from openai_cost_tracker import query_openai\n",
    "from openai import OpenAI\n",
    "import pandas as pd\n",
    "from nltk import translate\n",
    "import Levenshtein as lev\n",
    "import os\n",
    "from dotenv import load_dotenv"
   ]
  },
  {
   "cell_type": "code",
   "execution_count": 217,
   "id": "99f613a5-a425-4840-afb8-a5015d579a2e",
   "metadata": {},
   "outputs": [
    {
     "data": {
      "text/plain": [
       "True"
      ]
     },
     "execution_count": 217,
     "metadata": {},
     "output_type": "execute_result"
    }
   ],
   "source": [
    "load_dotenv(\"./api_key\")"
   ]
  },
  {
   "cell_type": "code",
   "execution_count": 220,
   "id": "607c9dae-623f-41e0-91db-61b10bae1bb3",
   "metadata": {},
   "outputs": [],
   "source": [
    "client = OpenAI(\n",
    "    # This is the default and can be omitted\n",
    "    api_key=os.environ.get('OPENAI_API_KEY')\n",
    ")"
   ]
  },
  {
   "cell_type": "markdown",
   "id": "9b063a89-ae1e-4173-b80b-568e38ff7300",
   "metadata": {},
   "source": [
    "### Prompting function"
   ]
  },
  {
   "cell_type": "code",
   "execution_count": 193,
   "id": "63cb5503-60d8-44d4-ad28-683af4ab455a",
   "metadata": {},
   "outputs": [],
   "source": [
    "def generate_n_shot_prompt(df, transformation_type, num_examples):\n",
    "    \"\"\"    \n",
    "    Parameters:\n",
    "    - df: A pandas DataFrame with columns 'input', 'transformation', and 'output'.\n",
    "    - transformation_type: A string indicating the type of transformation to filter for.\n",
    "    - num_examples: An integer indicating the number of examples to include in the prompt.\n",
    "    \n",
    "    Returns:\n",
    "    - A string containing the generated prompt.\n",
    "    \"\"\"\n",
    "    # Filter the DataFrame for the specific transformation type\n",
    "    # filtered_df = df[df['Transformation'] == transformation_type]\n",
    "    \n",
    "    # # Check if there are enough examples\n",
    "    # if num_examples > len(filtered_df):\n",
    "    #     raise ValueError(\"The number of requested examples exceeds the available rows for the specified transformation type.\")\n",
    "\n",
    "    filtered_df = df[df['Transformation'] == transformation_type].sample(frac=1).reset_index(drop=True)\n",
    "    \n",
    "    # Ensure there are enough examples\n",
    "    if num_examples + 1 > len(filtered_df):\n",
    "        raise ValueError(\"Not enough examples of the requested transformation type in the DataFrame.\")\n",
    "    \n",
    "    # Randomly select num_examples rows\n",
    "    selected_examples = filtered_df.head(num_examples)\n",
    "    \n",
    "    prompt = f\"Transformation: {transformation_type}\\n\\n\"\n",
    "    \n",
    "    # Add each example to the prompt\n",
    "    for i, row in enumerate(selected_examples.itertuples(), 1):\n",
    "        prompt += f\"{i}. Original: \\\"{row.Input}\\\" Transformed: \\\"{row.Output}\\\"\\n\"\n",
    "    \n",
    "    # Add instruction for the next input\n",
    "    prompt += \"\\nGiven the following input, apply the same transformation:\\n\\n\"\n",
    "    query_example = filtered_df.iloc[num_examples]\n",
    "    prompt += f\"Input: \\\"{query_example.Input}\\\"\\nOutput: \"\n",
    "    # print(prompt)\n",
    "    \n",
    "    return prompt, query_example"
   ]
  },
  {
   "cell_type": "markdown",
   "id": "5eb74aa1-d03d-46d7-b9b1-5ee74501c1b7",
   "metadata": {
    "jp-MarkdownHeadingCollapsed": true
   },
   "source": [
    "### Evaluation functions"
   ]
  },
  {
   "cell_type": "code",
   "execution_count": 138,
   "id": "da815ed7-9939-493c-8a07-424eae6374d8",
   "metadata": {},
   "outputs": [],
   "source": [
    "def compute_exact_string_match(actual, expected):\n",
    "    \"\"\"\n",
    "    Compares two strings to check if they are exactly the same.\n",
    "\n",
    "    Parameters:\n",
    "    - actual: String. The actual output from the transformation or prediction.\n",
    "    - expected: String. The expected correct output.\n",
    "\n",
    "    Returns:\n",
    "    - A boolean value. True if the actual output matches the expected output exactly, False otherwise.\n",
    "    \"\"\"\n",
    "    return actual == expected"
   ]
  },
  {
   "cell_type": "code",
   "execution_count": 122,
   "id": "ce79967d-f2da-4a5d-9ec2-6293485ca8a9",
   "metadata": {},
   "outputs": [],
   "source": [
    "def calculate_scores(actual, expected):\n",
    "    is_exact_match = compute_exact_string_match(actual, expected)\n",
    "    levenshtein = lev.distance(actual, expected)\n",
    "    chrF = translate.chrf_score.sentence_chrf(actual, expected)\n",
    "    return {\n",
    "        \"is_exact_match\": is_exact_match,\n",
    "        \"Levenshtein\": levenshtein, \n",
    "        \"chrF\": chrF\n",
    "    }"
   ]
  },
  {
   "cell_type": "markdown",
   "id": "d3a3cd61-6e66-488d-929a-884bd26701b0",
   "metadata": {},
   "source": [
    "### Querying"
   ]
  },
  {
   "cell_type": "code",
   "execution_count": 160,
   "id": "ecae4fd4-00fe-4657-b5dc-1adbefdfb2e0",
   "metadata": {},
   "outputs": [
    {
     "name": "stdout",
     "output_type": "stream",
     "text": [
      "Input tokens: 6 | Output tokens: 15 | Cost: $0.0004 | Total: $0.0004\n",
      "Prompt:\n",
      "What is the capital of France?The capital of France is Paris.\n"
     ]
    },
    {
     "data": {
      "text/plain": [
       "'The capital of France is Paris.'"
      ]
     },
     "execution_count": 160,
     "metadata": {},
     "output_type": "execute_result"
    }
   ],
   "source": [
    "def query_with_cost(model, prompt, max_tokens, cost_per_1000_tokens=0.02):\n",
    "    \"\"\"\n",
    "    A wrapper function to call OpenAI's Completion API and print the cost of the query.\n",
    "\n",
    "    Parameters:\n",
    "    - model (str): The model to use for the completion.\n",
    "    - prompt (str): The prompt to pass to the model.\n",
    "    - max_tokens (int): The maximum number of tokens to generate in the completion.\n",
    "    - cost_per_1000_tokens (float): The cost per 1,000 tokens for your OpenAI plan.\n",
    "\n",
    "    Prints the cost of the query in the specified format.\n",
    "    \"\"\"\n",
    "    response = client.chat.completions.create(\n",
    "    messages=[\n",
    "        {\n",
    "            \"role\": \"user\",\n",
    "            \"content\": prompt,\n",
    "        }\n",
    "    ],\n",
    "    model=model,\n",
    "    )\n",
    "    usage_info = response.usage\n",
    "\n",
    "    input_tokens = len(prompt.split())  # Simplified estimation of input tokens\n",
    "    output_tokens = usage_info.total_tokens - input_tokens  # Estimating output tokens\n",
    "    total_tokens = usage_info.total_tokens  # Total tokens\n",
    "\n",
    "    cost = (total_tokens / 1000) * cost_per_1000_tokens  # Calculate cost\n",
    "\n",
    "    print(f\"Input tokens: {input_tokens} | Output tokens: {output_tokens} | Cost: ${cost:.4f} | Total: ${cost:.4f}\")\n",
    "\n",
    "    output = response.choices[0].message.content\n",
    "    print(\"Prompt:\")\n",
    "    print(prompt + output)\n",
    "    # print(response.choices)\n",
    "    # print(response.choices[0].message.content)\n",
    "    return output\n",
    "\n",
    "# Example usage\n",
    "model = \"gpt-3.5-turbo\"\n",
    "prompt = \"What is the capital of France?\"\n",
    "max_tokens = 50\n",
    "\n",
    "# Adjust the cost_per_1000_tokens according to your actual plan\n",
    "query_with_cost(model, prompt, max_tokens, cost_per_1000_tokens=0.02)\n"
   ]
  },
  {
   "cell_type": "code",
   "execution_count": 166,
   "id": "67c38330-efea-4e4a-8617-eb5eb4ca879b",
   "metadata": {},
   "outputs": [],
   "source": [
    "def query_with_cost_and_compare(model, prompt, max_tokens, expected, cost_per_1000_tokens=0.02):\n",
    "    actual = query_with_cost(model, prompt, max_tokens)\n",
    "    print(\"\\n-------\")\n",
    "    print(\"Actual: \", actual, \"Expected \", expected)\n",
    "    # print(\"Expected:\", expected)\n",
    "    return calculate_scores(actual, expected)\n"
   ]
  },
  {
   "cell_type": "markdown",
   "id": "dbf63376-11e9-42c9-9524-a5d83db461e2",
   "metadata": {},
   "source": [
    "#### Data Parsing"
   ]
  },
  {
   "cell_type": "code",
   "execution_count": 136,
   "id": "8f5a961a-a9d0-4ca3-8c62-edb24e4a8849",
   "metadata": {},
   "outputs": [],
   "source": [
    "pilot_bribri_train = './americasnlp2024/ST2_EducationalMaterials/pilotdata/bribri-train.tsv'\n",
    "pilot_bribri_train_df = pd.read_csv(pilot_bribri_train, delimiter='\\t', names=['ID', 'Input', 'Transformation', 'Output'])"
   ]
  },
  {
   "cell_type": "code",
   "execution_count": 68,
   "id": "33cbaa79-7897-4d15-aa0b-529c64ac3f19",
   "metadata": {},
   "outputs": [
    {
     "data": {
      "text/html": [
       "<div>\n",
       "<style scoped>\n",
       "    .dataframe tbody tr th:only-of-type {\n",
       "        vertical-align: middle;\n",
       "    }\n",
       "\n",
       "    .dataframe tbody tr th {\n",
       "        vertical-align: top;\n",
       "    }\n",
       "\n",
       "    .dataframe thead th {\n",
       "        text-align: right;\n",
       "    }\n",
       "</style>\n",
       "<table border=\"1\" class=\"dataframe\">\n",
       "  <thead>\n",
       "    <tr style=\"text-align: right;\">\n",
       "      <th></th>\n",
       "      <th>ID</th>\n",
       "      <th>Input</th>\n",
       "      <th>Transformation</th>\n",
       "      <th>Output</th>\n",
       "    </tr>\n",
       "  </thead>\n",
       "  <tbody>\n",
       "    <tr>\n",
       "      <th>0</th>\n",
       "      <td>Bribri001</td>\n",
       "      <td>Ie’ tso bua’</td>\n",
       "      <td>TYPE:NEG</td>\n",
       "      <td>Ie’ kë̀ ku̠ bua’</td>\n",
       "    </tr>\n",
       "    <tr>\n",
       "      <th>1</th>\n",
       "      <td>Bribri002</td>\n",
       "      <td>Ie’ tso bua’</td>\n",
       "      <td>TENSE:PER_REM, ASPECT:PER</td>\n",
       "      <td>Ie’ bák bua’</td>\n",
       "    </tr>\n",
       "    <tr>\n",
       "      <th>2</th>\n",
       "      <td>Bribri003</td>\n",
       "      <td>Ie’ tso bua’</td>\n",
       "      <td>TYPE:NEG, TENSE:PER_REM, ASPECT:PER</td>\n",
       "      <td>Ie’ kë̀ ku̠’bak bua’</td>\n",
       "    </tr>\n",
       "    <tr>\n",
       "      <th>3</th>\n",
       "      <td>Bribri004</td>\n",
       "      <td>Ie’ tso bua’</td>\n",
       "      <td>TYPE:NEG</td>\n",
       "      <td>Kë̀ i ku̠’ bua’</td>\n",
       "    </tr>\n",
       "    <tr>\n",
       "      <th>4</th>\n",
       "      <td>Bribri005</td>\n",
       "      <td>Ye’ i̠ni̠’</td>\n",
       "      <td>TENSE:IMP_REC, ASPECT:IMP</td>\n",
       "      <td>Ie’ i̠nù̠</td>\n",
       "    </tr>\n",
       "    <tr>\n",
       "      <th>...</th>\n",
       "      <td>...</td>\n",
       "      <td>...</td>\n",
       "      <td>...</td>\n",
       "      <td>...</td>\n",
       "    </tr>\n",
       "    <tr>\n",
       "      <th>114</th>\n",
       "      <td>Bribri115</td>\n",
       "      <td>Ye’ e̠’ tkë’rë</td>\n",
       "      <td>TENSE:IMP_REC, ASPECT:IMP</td>\n",
       "      <td>Ye’ e̠’ tkö̀rö</td>\n",
       "    </tr>\n",
       "    <tr>\n",
       "      <th>115</th>\n",
       "      <td>Bribri116</td>\n",
       "      <td>Ye’ e̠’ tkë’rë</td>\n",
       "      <td>MODE:IMP, TENSE:IMP_REC, ASPECT:IMP</td>\n",
       "      <td>Be’ e̠’ tkö́rö</td>\n",
       "    </tr>\n",
       "    <tr>\n",
       "      <th>116</th>\n",
       "      <td>Bribri117</td>\n",
       "      <td>Pûs kapë’wa̠</td>\n",
       "      <td>NUMBER:PL</td>\n",
       "      <td>Pûs kapë’ulur</td>\n",
       "    </tr>\n",
       "    <tr>\n",
       "      <th>117</th>\n",
       "      <td>Bribri118</td>\n",
       "      <td>Ye’ tö skuë̀ kö́twa̠</td>\n",
       "      <td>NUMBER:PL</td>\n",
       "      <td>Ye’ tö skuë̀ kö́tulur</td>\n",
       "    </tr>\n",
       "    <tr>\n",
       "      <th>118</th>\n",
       "      <td>Bribri119</td>\n",
       "      <td>Ie’ e̠’ tkë’wa̠</td>\n",
       "      <td>NUMBER:PL</td>\n",
       "      <td>Ie’ e̠’ tulu’wa̠</td>\n",
       "    </tr>\n",
       "  </tbody>\n",
       "</table>\n",
       "<p>119 rows × 4 columns</p>\n",
       "</div>"
      ],
      "text/plain": [
       "            ID                 Input                       Transformation  \\\n",
       "0    Bribri001          Ie’ tso bua’                             TYPE:NEG   \n",
       "1    Bribri002          Ie’ tso bua’            TENSE:PER_REM, ASPECT:PER   \n",
       "2    Bribri003          Ie’ tso bua’  TYPE:NEG, TENSE:PER_REM, ASPECT:PER   \n",
       "3    Bribri004          Ie’ tso bua’                             TYPE:NEG   \n",
       "4    Bribri005            Ye’ i̠ni̠’            TENSE:IMP_REC, ASPECT:IMP   \n",
       "..         ...                   ...                                  ...   \n",
       "114  Bribri115        Ye’ e̠’ tkë’rë            TENSE:IMP_REC, ASPECT:IMP   \n",
       "115  Bribri116        Ye’ e̠’ tkë’rë  MODE:IMP, TENSE:IMP_REC, ASPECT:IMP   \n",
       "116  Bribri117         Pûs kapë’wa̠                            NUMBER:PL   \n",
       "117  Bribri118  Ye’ tö skuë̀ kö́twa̠                            NUMBER:PL   \n",
       "118  Bribri119       Ie’ e̠’ tkë’wa̠                            NUMBER:PL   \n",
       "\n",
       "                    Output  \n",
       "0         Ie’ kë̀ ku̠ bua’  \n",
       "1             Ie’ bák bua’  \n",
       "2     Ie’ kë̀ ku̠’bak bua’  \n",
       "3          Kë̀ i ku̠’ bua’  \n",
       "4               Ie’ i̠nù̠  \n",
       "..                     ...  \n",
       "114         Ye’ e̠’ tkö̀rö  \n",
       "115         Be’ e̠’ tkö́rö  \n",
       "116         Pûs kapë’ulur  \n",
       "117  Ye’ tö skuë̀ kö́tulur  \n",
       "118       Ie’ e̠’ tulu’wa̠  \n",
       "\n",
       "[119 rows x 4 columns]"
      ]
     },
     "execution_count": 68,
     "metadata": {},
     "output_type": "execute_result"
    }
   ],
   "source": [
    "pilot_bribri_train_df"
   ]
  },
  {
   "cell_type": "code",
   "execution_count": 98,
   "id": "e8926a9a-230e-4e1e-9bfa-de299ad2006b",
   "metadata": {},
   "outputs": [
    {
     "data": {
      "text/html": [
       "<div>\n",
       "<style scoped>\n",
       "    .dataframe tbody tr th:only-of-type {\n",
       "        vertical-align: middle;\n",
       "    }\n",
       "\n",
       "    .dataframe tbody tr th {\n",
       "        vertical-align: top;\n",
       "    }\n",
       "\n",
       "    .dataframe thead th {\n",
       "        text-align: right;\n",
       "    }\n",
       "</style>\n",
       "<table border=\"1\" class=\"dataframe\">\n",
       "  <thead>\n",
       "    <tr style=\"text-align: right;\">\n",
       "      <th></th>\n",
       "      <th>ID</th>\n",
       "      <th>Input</th>\n",
       "      <th>Transformation</th>\n",
       "      <th>Output</th>\n",
       "    </tr>\n",
       "  </thead>\n",
       "  <tbody>\n",
       "    <tr>\n",
       "      <th>0</th>\n",
       "      <td>Bribri001</td>\n",
       "      <td>Ie’ tso bua’</td>\n",
       "      <td>TYPE:NEG</td>\n",
       "      <td>Ie’ kë̀ ku̠ bua’</td>\n",
       "    </tr>\n",
       "    <tr>\n",
       "      <th>3</th>\n",
       "      <td>Bribri004</td>\n",
       "      <td>Ie’ tso bua’</td>\n",
       "      <td>TYPE:NEG</td>\n",
       "      <td>Kë̀ i ku̠’ bua’</td>\n",
       "    </tr>\n",
       "    <tr>\n",
       "      <th>32</th>\n",
       "      <td>Bribri033</td>\n",
       "      <td>Ye’ tö ù sú̠</td>\n",
       "      <td>TYPE:NEG</td>\n",
       "      <td>Ye’ kë̀ wa̠ ù sù̠ne̠</td>\n",
       "    </tr>\n",
       "    <tr>\n",
       "      <th>60</th>\n",
       "      <td>Bribri061</td>\n",
       "      <td>Ye’ stsë’</td>\n",
       "      <td>TYPE:NEG</td>\n",
       "      <td>Ye’ kë̀ stsë̀ne̠</td>\n",
       "    </tr>\n",
       "    <tr>\n",
       "      <th>79</th>\n",
       "      <td>Bribri080</td>\n",
       "      <td>Ye’ é̠n a̠ àrros ña̠’ku</td>\n",
       "      <td>TYPE:NEG</td>\n",
       "      <td>Kë̀ ye’ é̠n a̠ àrros ña̠’ku</td>\n",
       "    </tr>\n",
       "    <tr>\n",
       "      <th>109</th>\n",
       "      <td>Bribri110</td>\n",
       "      <td>Ye’ wa̠ sawë́ chka katárule</td>\n",
       "      <td>TYPE:NEG</td>\n",
       "      <td>Ye’ kë̀ wa̠ sawë́ chka katárule</td>\n",
       "    </tr>\n",
       "  </tbody>\n",
       "</table>\n",
       "</div>"
      ],
      "text/plain": [
       "            ID                        Input Transformation  \\\n",
       "0    Bribri001                 Ie’ tso bua’       TYPE:NEG   \n",
       "3    Bribri004                 Ie’ tso bua’       TYPE:NEG   \n",
       "32   Bribri033                Ye’ tö ù sú̠       TYPE:NEG   \n",
       "60   Bribri061                    Ye’ stsë’       TYPE:NEG   \n",
       "79   Bribri080     Ye’ é̠n a̠ àrros ña̠’ku       TYPE:NEG   \n",
       "109  Bribri110  Ye’ wa̠ sawë́ chka katárule       TYPE:NEG   \n",
       "\n",
       "                              Output  \n",
       "0                   Ie’ kë̀ ku̠ bua’  \n",
       "3                    Kë̀ i ku̠’ bua’  \n",
       "32            Ye’ kë̀ wa̠ ù sù̠ne̠  \n",
       "60                  Ye’ kë̀ stsë̀ne̠  \n",
       "79      Kë̀ ye’ é̠n a̠ àrros ña̠’ku  \n",
       "109  Ye’ kë̀ wa̠ sawë́ chka katárule  "
      ]
     },
     "execution_count": 98,
     "metadata": {},
     "output_type": "execute_result"
    }
   ],
   "source": [
    "pilot_bribri_train_df[pilot_bribri_train_df['Transformation'] == 'TYPE:NEG']"
   ]
  },
  {
   "cell_type": "code",
   "execution_count": 184,
   "id": "d4933373-91f7-453e-a800-cdac6bd36a91",
   "metadata": {},
   "outputs": [
    {
     "data": {
      "text/plain": [
       "Transformation\n",
       "ASPECT:INC                                                   1\n",
       "MODE:ADV                                                     1\n",
       "MODE:ADV, TENSE:PER_REM, ASPECT:PER, VOICE:MID               1\n",
       "MODE:EXH, TENSE:IMP_HAB, ASPECT:IMP                          1\n",
       "MODE:EXH, TENSE:IMP_HAB, ASPECT:IMP, NUMBER:PL               1\n",
       "MODE:IMP, TENSE:IMP_REC, ASPECT:IMP                          6\n",
       "MODE:IND, TENSE:FUT_PT, ASPECT:IMP, VOICE:MID                1\n",
       "MODE:IND, TENSE:IMP_HAB, ASPECT:IMP, VOICE:MID               2\n",
       "MODE:OPT, TENSE:IMP_HAB, ASPECT:IMP                          2\n",
       "MODE:OPT, TENSE:IMP_HAB, VOICE:MID                           1\n",
       "NUMBER:PL                                                    4\n",
       "TENSE:FUT_CER, ASPECT:IMP                                    4\n",
       "TENSE:FUT_CER, ASPECT:IMP, VOICE:MID                         1\n",
       "TENSE:FUT_PT, ASPECT:IMP                                     4\n",
       "TENSE:IMP_CON, ASPECT:IMP                                    3\n",
       "TENSE:IMP_HAB, ASPECT:IMP                                    6\n",
       "TENSE:IMP_REC, ASPECT:IMP                                   11\n",
       "TENSE:IMP_REC, ASPECT:IMP, NUMBER:PL                         1\n",
       "TENSE:IMP_REC, ASPECT:IMP, VOICE:MID                         3\n",
       "TENSE:IMP_REC, ASPECT:IMP, VOICE:PAS                         1\n",
       "TENSE:PAS                                                    2\n",
       "TENSE:PAS, VOICE:MID                                         1\n",
       "TENSE:PER_CON                                                1\n",
       "TENSE:PER_REC                                                4\n",
       "TENSE:PER_REC, ASPECT:INC                                    1\n",
       "TENSE:PER_REC, ASPECT:PER                                    1\n",
       "TENSE:PER_REC, VOICE:MID                                     1\n",
       "TENSE:PER_REM, ASPECT:PER                                    5\n",
       "TYPE:NEG                                                     6\n",
       "TYPE:NEG, MODE:IMP, TENSE:IMP_REC, ASPECT:IMP                4\n",
       "TYPE:NEG, MODE:IMP, TENSE:IMP_REC, ASPECT:IMP, VOICE:MID     3\n",
       "TYPE:NEG, MODE:IND, TENSE:FUT_PT, ASPECT:IMP, VOICE:MID      1\n",
       "TYPE:NEG, MODE:IND, TENSE:IMP_HAB, ASPECT:IMP, VOICE:MID     1\n",
       "TYPE:NEG, MODE:OPT, TENSE:IMP_HAB, ASPECT:IMP                1\n",
       "TYPE:NEG, TENSE:FUT_CER, ASPECT:IMP                          4\n",
       "TYPE:NEG, TENSE:FUT_CER, ASPECT:IMP, VOICE:MID               1\n",
       "TYPE:NEG, TENSE:FUT_PT, ASPECT:IMP                           4\n",
       "TYPE:NEG, TENSE:IMP_HAB, ASPECT:IMP                          4\n",
       "TYPE:NEG, TENSE:IMP_REC, ASPECT:IMP                          3\n",
       "TYPE:NEG, TENSE:IMP_REC, ASPECT:IMP, VOICE:MID               1\n",
       "TYPE:NEG, TENSE:IMP_REC, ASPECT:IMP, VOICE:PAS               1\n",
       "TYPE:NEG, TENSE:PAS                                          2\n",
       "TYPE:NEG, TENSE:PER_CON, NUMBER:PL                           1\n",
       "TYPE:NEG, TENSE:PER_REM, ASPECT:PER                          2\n",
       "TYPE:NEG, VOICE:MID                                          3\n",
       "VOICE:MID                                                    5\n",
       "VOICE:MID, NUMBER:PL                                         1\n",
       "Name: Transformation, dtype: int64"
      ]
     },
     "execution_count": 184,
     "metadata": {},
     "output_type": "execute_result"
    }
   ],
   "source": [
    "pilot_bribri_train_df.groupby(['Transformation'])['Transformation'].count()"
   ]
  },
  {
   "cell_type": "code",
   "execution_count": null,
   "id": "7136868a-edde-487d-b1fd-d4aa852d5ff8",
   "metadata": {},
   "outputs": [],
   "source": []
  },
  {
   "cell_type": "code",
   "execution_count": 182,
   "id": "23b02dd7-59dc-4af9-8aa1-7e90c7535e66",
   "metadata": {},
   "outputs": [],
   "source": [
    "two_shot_negation_prompt, query_example = generate_n_shot_prompt(pilot_bribri_train_df, 'TYPE:NEG', 2)"
   ]
  },
  {
   "cell_type": "code",
   "execution_count": 181,
   "id": "8e72b46d-8fc0-4b85-ad3e-79d0c25ff52c",
   "metadata": {},
   "outputs": [
    {
     "name": "stdout",
     "output_type": "stream",
     "text": [
      "('Transformation: TYPE:NEG\\n\\n1. Original: \"Ie’ tso bua’\" Transformed: \"Ie’ kë̀ ku̠ bua’\"\\n2. Original: \"Ie’ tso bua’\" Transformed: \"Kë̀ i ku̠’ bua’\"\\n\\nGiven the following input, apply the same transformation:\\n\\nInput: \"Ye’ tö ù sú̠\"\\nOutput: ', ID                             Bribri033\n",
      "Input                      Ye’ tö ù sú̠\n",
      "Transformation                  TYPE:NEG\n",
      "Output            Ye’ kë̀ wa̠ ù sù̠ne̠\n",
      "Name: 32, dtype: object)\n"
     ]
    }
   ],
   "source": [
    "print(generate_n_shot_prompt(pilot_bribri_train_df, 'TYPE:NEG', 2))"
   ]
  },
  {
   "cell_type": "code",
   "execution_count": null,
   "id": "3888c258-2ae5-459d-829d-e37d5056a0ce",
   "metadata": {},
   "outputs": [],
   "source": []
  },
  {
   "cell_type": "code",
   "execution_count": 190,
   "id": "cfa61192-41ab-4c41-a2b1-2f9210a6e642",
   "metadata": {},
   "outputs": [
    {
     "name": "stdout",
     "output_type": "stream",
     "text": [
      "Input tokens: 36 | Output tokens: 78 | Cost: $0.0023 | Total: $0.0023\n",
      "Prompt:\n",
      "Transformation: TYPE:NEG\n",
      "\n",
      "1. Original: \"Ie’ tso bua’\" Transformed: \"Ie’ kë̀ ku̠ bua’\"\n",
      "2. Original: \"Ie’ tso bua’\" Transformed: \"Kë̀ i ku̠’ bua’\"\n",
      "\n",
      "Given the following input, apply the same transformation:\n",
      "\n",
      "Input: \"Ye’ tö ù sú̠\"\n",
      "Output: \"Ye’ kë̀ tö ù sú̠\"\n",
      "\n",
      "-------\n",
      "Actual:  \"Ye’ kë̀ tö ù sú̠\" Expected  Ye’ kë̀ wa̠ ù sù̠ne̠\n"
     ]
    },
    {
     "data": {
      "text/plain": [
       "{'is_exact_match': False, 'Levenshtein': 9, 'chrF': 0.3395043464140041}"
      ]
     },
     "execution_count": 190,
     "metadata": {},
     "output_type": "execute_result"
    }
   ],
   "source": [
    "query_with_cost_and_compare(model, two_shot_negation_prompt, 1000, query_example.Output)"
   ]
  },
  {
   "cell_type": "code",
   "execution_count": null,
   "id": "251f56e0-dbed-414b-b5c7-3f5512960f2d",
   "metadata": {},
   "outputs": [],
   "source": []
  },
  {
   "cell_type": "code",
   "execution_count": 185,
   "id": "5c40b4ee-3714-414b-b11d-8c4d25096ef4",
   "metadata": {},
   "outputs": [],
   "source": [
    "six_shot_imperfect = generate_n_shot_prompt(pilot_bribri_train_df, 'TENSE:IMP_REC, ASPECT:IMP', 6)"
   ]
  },
  {
   "cell_type": "code",
   "execution_count": 187,
   "id": "33e3b26a-c7e0-4540-a618-0ca267ea2d89",
   "metadata": {},
   "outputs": [
    {
     "name": "stdout",
     "output_type": "stream",
     "text": [
      "Input tokens: 60 | Output tokens: 163 | Cost: $0.0045 | Total: $0.0045\n",
      "Prompt:\n",
      "Transformation: TENSE:IMP_REC, ASPECT:IMP\n",
      "\n",
      "1. Original: \"Ye’ i̠ni̠’\" Transformed: \"Ie’ i̠nù̠\"\n",
      "2. Original: \"Ye’ i̠ni̠’\" Transformed: \"Ye’ i̠nù̠\"\n",
      "3. Original: \"Ye’ i̠ni̠’\" Transformed: \"Ye’ tso i̠nú̠k\"\n",
      "4. Original: \"Ye’r i sú̠\" Transformed: \"Ye’r i sa̠wè̠\"\n",
      "5. Original: \"Ye’ tú̠ne̠’\" Transformed: \"Ye’ tú̠n\"\n",
      "6. Original: \"Ye’ tú̠ne̠’\" Transformed: \"I tú̠n\"\n",
      "\n",
      "Given the following input, apply the same transformation:\n",
      "\n",
      "Input: \"Ye’ stsë’\"\n",
      "Output: \"Ye’ stsë̠̀\"\n",
      "\n",
      "-------\n",
      "Actual:  \"Ye’ stsë̠̀\" Expected  Ie’ stsö̀ bua’\n"
     ]
    },
    {
     "data": {
      "text/plain": [
       "{'is_exact_match': False, 'Levenshtein': 8, 'chrF': 0.2756681874734525}"
      ]
     },
     "execution_count": 187,
     "metadata": {},
     "output_type": "execute_result"
    }
   ],
   "source": [
    "query_with_cost_and_compare(model, six_shot_imperfect[0], 1000, six_shot_imperfect[1].Output)"
   ]
  },
  {
   "cell_type": "code",
   "execution_count": 194,
   "id": "38ebea86-4307-4c63-bdb5-d33a666c523a",
   "metadata": {},
   "outputs": [],
   "source": [
    "six_shot_imperfect = generate_n_shot_prompt(pilot_bribri_train_df, 'TENSE:IMP_REC, ASPECT:IMP', 6)"
   ]
  },
  {
   "cell_type": "code",
   "execution_count": 221,
   "id": "fee421e1-161a-4763-8060-0ae50ddd6f9a",
   "metadata": {},
   "outputs": [
    {
     "name": "stdout",
     "output_type": "stream",
     "text": [
      "Input tokens: 63 | Output tokens: 152 | Cost: $0.0043 | Total: $0.0043\n",
      "Prompt:\n",
      "Transformation: TENSE:IMP_REC, ASPECT:IMP\n",
      "\n",
      "1. Original: \"Ye’ i̠ni̠’\" Transformed: \"Ye’ tso i̠nú̠k\"\n",
      "2. Original: \"Ye’ stsë’\" Transformed: \"Ye’ stsö̀\"\n",
      "3. Original: \"Ye’ tú̠ne̠’\" Transformed: \"I tú̠n\"\n",
      "4. Original: \"Ye’ i̠ni̠’\" Transformed: \"Ie’ i̠nù̠\"\n",
      "5. Original: \"Ye’ tö i kíme̠’\" Transformed: \"Ye’ tö i kimë̀\"\n",
      "6. Original: \"Ye’ tú̠ne̠’\" Transformed: \"Ye’ tú̠n\"\n",
      "\n",
      "Given the following input, apply the same transformation:\n",
      "\n",
      "Input: \"Ye’r i sú̠\"\n",
      "Output: Ye’r ti suò̠\n",
      "\n",
      "-------\n",
      "Actual:  Ye’r ti suò̠ Expected  Ye’r i sa̠wè̠\n"
     ]
    },
    {
     "data": {
      "text/plain": [
       "{'is_exact_match': False, 'Levenshtein': 6, 'chrF': 0.24333288909746562}"
      ]
     },
     "execution_count": 221,
     "metadata": {},
     "output_type": "execute_result"
    }
   ],
   "source": [
    "query_with_cost_and_compare(model, six_shot_imperfect[0], 1000, six_shot_imperfect[1].Output)"
   ]
  }
 ],
 "metadata": {
  "kernelspec": {
   "display_name": "Python 3 (ipykernel)",
   "language": "python",
   "name": "python3"
  },
  "language_info": {
   "codemirror_mode": {
    "name": "ipython",
    "version": 3
   },
   "file_extension": ".py",
   "mimetype": "text/x-python",
   "name": "python",
   "nbconvert_exporter": "python",
   "pygments_lexer": "ipython3",
   "version": "3.11.7"
  }
 },
 "nbformat": 4,
 "nbformat_minor": 5
}
